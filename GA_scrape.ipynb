{
 "cells": [
  {
   "cell_type": "code",
   "execution_count": 37,
   "metadata": {},
   "outputs": [],
   "source": [
    "# import dependencies\n",
    "\n",
    "import pandas as pd\n",
    "import requests\n",
    "from selenium import webdriver\n",
    "from webdriver_manager.chrome import ChromeDriverManager\n",
    "import config\n",
    "\n",
    "from bs4 import BeautifulSoup\n",
    "from splinter import Browser\n",
    "import time\n",
    "from selenium.webdriver.common.keys import Keys\n",
    "from selenium.webdriver.common.by import By"
   ]
  },
  {
   "cell_type": "code",
   "execution_count": 38,
   "metadata": {
    "scrolled": false
   },
   "outputs": [
    {
     "name": "stderr",
     "output_type": "stream",
     "text": [
      "\n",
      "\n",
      "====== WebDriver manager ======\n",
      "Current google-chrome version is 91.0.4472\n",
      "Get LATEST driver version for 91.0.4472\n",
      "Driver [/Users/katigremillion/.wdm/drivers/chromedriver/mac64/91.0.4472.101/chromedriver] found in cache\n"
     ]
    }
   ],
   "source": [
    "# update Chromedriver tolatest version\n",
    "\n",
    "driver = webdriver.Chrome(ChromeDriverManager().install())"
   ]
  },
  {
   "cell_type": "code",
   "execution_count": 39,
   "metadata": {},
   "outputs": [],
   "source": [
    "# load analytics log in page\n",
    "\n",
    "driver.get(config.URL2)"
   ]
  },
  {
   "cell_type": "code",
   "execution_count": 40,
   "metadata": {},
   "outputs": [],
   "source": [
    "# UN input\n",
    "\n",
    "username = driver.find_element_by_id(\"identifierId\")\n",
    "username.clear()\n",
    "username.send_keys(config.username2)"
   ]
  },
  {
   "cell_type": "code",
   "execution_count": 41,
   "metadata": {},
   "outputs": [],
   "source": [
    "username.send_keys(Keys.RETURN)"
   ]
  },
  {
   "cell_type": "code",
   "execution_count": 42,
   "metadata": {},
   "outputs": [],
   "source": [
    "time.sleep(5)"
   ]
  },
  {
   "cell_type": "code",
   "execution_count": 43,
   "metadata": {},
   "outputs": [],
   "source": [
    "# PW input\n",
    "\n",
    "password = driver.find_element_by_xpath(\"//*[@id='password']/div[1]/div/div[1]/input\")\n",
    "password.send_keys(config.password2)"
   ]
  },
  {
   "cell_type": "code",
   "execution_count": 44,
   "metadata": {},
   "outputs": [],
   "source": [
    "# Pressing enter to log in\n",
    "\n",
    "password.send_keys(Keys.RETURN)"
   ]
  },
  {
   "cell_type": "code",
   "execution_count": 45,
   "metadata": {},
   "outputs": [],
   "source": [
    "time.sleep(5)"
   ]
  },
  {
   "cell_type": "code",
   "execution_count": 46,
   "metadata": {},
   "outputs": [],
   "source": [
    "# Load Google Analytics\n",
    "\n",
    "driver.get(config.URL2)"
   ]
  },
  {
   "cell_type": "code",
   "execution_count": 47,
   "metadata": {},
   "outputs": [],
   "source": [
    "time.sleep(5)"
   ]
  },
  {
   "cell_type": "markdown",
   "metadata": {},
   "source": [
    "## New vs. Returning"
   ]
  },
  {
   "cell_type": "code",
   "execution_count": 48,
   "metadata": {},
   "outputs": [],
   "source": [
    "# insert URL for report page want to download - need to have time rage selected for it to grab the specific dates\n",
    "\n",
    "driver.get(\"https://analytics.google.com/analytics/web/#/report/visitors-type/\" + config.code + \"/_u.dateOption=last30days&explorer-graphOptions.selected=analytics.nthDay\")"
   ]
  },
  {
   "cell_type": "code",
   "execution_count": 49,
   "metadata": {},
   "outputs": [],
   "source": [
    "time.sleep(5)"
   ]
  },
  {
   "cell_type": "code",
   "execution_count": 50,
   "metadata": {},
   "outputs": [],
   "source": [
    "# define iframe\n",
    "\n",
    "iframe = driver.find_element_by_id(\"galaxyIframe\")"
   ]
  },
  {
   "cell_type": "code",
   "execution_count": 51,
   "metadata": {},
   "outputs": [],
   "source": [
    "# switch to iframe in order to access web elements\n",
    "\n",
    "driver.switch_to.frame(iframe)"
   ]
  },
  {
   "cell_type": "code",
   "execution_count": 52,
   "metadata": {},
   "outputs": [],
   "source": [
    "time.sleep(2)"
   ]
  },
  {
   "cell_type": "code",
   "execution_count": 53,
   "metadata": {},
   "outputs": [
    {
     "data": {
      "text/plain": [
       "<selenium.webdriver.remote.webelement.WebElement (session=\"cd1a933dce289500f5e5a70f5ee8ee8e\", element=\"d6c25921-4723-464c-a5eb-3ead12e7d74a\")>"
      ]
     },
     "execution_count": 53,
     "metadata": {},
     "output_type": "execute_result"
    }
   ],
   "source": [
    "# locate the main toolbar\n",
    "\n",
    "driver.find_element_by_id(\"ID-reportHeader-reportToolbar\")"
   ]
  },
  {
   "cell_type": "code",
   "execution_count": 54,
   "metadata": {},
   "outputs": [],
   "source": [
    "# click on the \"export\" button\n",
    "\n",
    "driver.find_element_by_xpath(\"//*[@id='ID-reportHeader-reportToolbar']/div[1]/div[2]/span[2]\").click()"
   ]
  },
  {
   "cell_type": "code",
   "execution_count": 55,
   "metadata": {},
   "outputs": [],
   "source": [
    "time.sleep(2)"
   ]
  },
  {
   "cell_type": "code",
   "execution_count": 56,
   "metadata": {},
   "outputs": [],
   "source": [
    "# select type of export file - options are PDF (li.ACTION-export.TARGET-PDF), Google Sheets (li.ACTION-export.TARGET-FOR_TRIX), Excel (li.ACTION-export.TARGET-XLSX), & CSV (li.ACTION-export.TARGET-CSV)\n",
    "\n",
    "driver.find_element_by_css_selector(\"li.ACTION-export.TARGET-XLSX\").click()"
   ]
  },
  {
   "cell_type": "code",
   "execution_count": 57,
   "metadata": {},
   "outputs": [],
   "source": [
    "time.sleep(5)"
   ]
  },
  {
   "cell_type": "markdown",
   "metadata": {},
   "source": [
    "## Location"
   ]
  },
  {
   "cell_type": "code",
   "execution_count": 58,
   "metadata": {},
   "outputs": [],
   "source": [
    "# insert URL for report page want to download - need to have time rage selected for it to grab the specific dates\n",
    "\n",
    "driver.get(\"https://analytics.google.com/analytics/web/#/report/visitors-geo/\" + config.code + \"/_u.dateOption=last30days/\")"
   ]
  },
  {
   "cell_type": "code",
   "execution_count": 59,
   "metadata": {},
   "outputs": [],
   "source": [
    "time.sleep(2)"
   ]
  },
  {
   "cell_type": "code",
   "execution_count": 60,
   "metadata": {},
   "outputs": [],
   "source": [
    "# define iframe\n",
    "\n",
    "iframe = driver.find_element_by_id(\"galaxyIframe\")"
   ]
  },
  {
   "cell_type": "code",
   "execution_count": 61,
   "metadata": {},
   "outputs": [],
   "source": [
    "# switch to iframe to access web elements\n",
    "\n",
    "driver.switch_to.frame(iframe)"
   ]
  },
  {
   "cell_type": "code",
   "execution_count": 62,
   "metadata": {},
   "outputs": [
    {
     "data": {
      "text/plain": [
       "<selenium.webdriver.remote.webelement.WebElement (session=\"cd1a933dce289500f5e5a70f5ee8ee8e\", element=\"109cfe12-f2ee-4a0e-8df5-242554222fc4\")>"
      ]
     },
     "execution_count": 62,
     "metadata": {},
     "output_type": "execute_result"
    }
   ],
   "source": [
    "# locate the main toolbar\n",
    "\n",
    "driver.find_element_by_id(\"ID-reportHeader-reportToolbar\")"
   ]
  },
  {
   "cell_type": "code",
   "execution_count": 63,
   "metadata": {},
   "outputs": [],
   "source": [
    "time.sleep(2)"
   ]
  },
  {
   "cell_type": "code",
   "execution_count": 64,
   "metadata": {},
   "outputs": [],
   "source": [
    "# click on the \"export\" button\n",
    "\n",
    "driver.find_element_by_xpath(\"//*[@id='ID-reportHeader-reportToolbar']/div[1]/div[2]/span[2]\").click()"
   ]
  },
  {
   "cell_type": "code",
   "execution_count": 65,
   "metadata": {},
   "outputs": [],
   "source": [
    "time.sleep(2)"
   ]
  },
  {
   "cell_type": "code",
   "execution_count": 66,
   "metadata": {},
   "outputs": [],
   "source": [
    "# select type of export file - options are PDF (li.ACTION-export.TARGET-PDF), Google Sheets (li.ACTION-export.TARGET-FOR_TRIX), Excel (li.ACTION-export.TARGET-XLSX), & CSV (li.ACTION-export.TARGET-CSV)\n",
    "\n",
    "driver.find_element_by_css_selector(\"li.ACTION-export.TARGET-XLSX\").click()"
   ]
  },
  {
   "cell_type": "code",
   "execution_count": 67,
   "metadata": {},
   "outputs": [],
   "source": [
    "time.sleep(5)"
   ]
  },
  {
   "cell_type": "markdown",
   "metadata": {},
   "source": [
    "## Number of Users"
   ]
  },
  {
   "cell_type": "code",
   "execution_count": 68,
   "metadata": {},
   "outputs": [],
   "source": [
    "# insert URL for report page want to download - need to have time rage selected for it to grab the specific dates\n",
    "\n",
    "driver.get(\"https://analytics.google.com/analytics/web/#/report/visitors-language/\" + config.code + \"/_u.dateOption=last30days&tabControl.tabId=explorer&explorer-segmentExplorer.segmentId=analytics.language\")"
   ]
  },
  {
   "cell_type": "code",
   "execution_count": 69,
   "metadata": {},
   "outputs": [],
   "source": [
    "time.sleep(2)"
   ]
  },
  {
   "cell_type": "code",
   "execution_count": 70,
   "metadata": {},
   "outputs": [],
   "source": [
    "# define iframe\n",
    "\n",
    "iframe = driver.find_element_by_id(\"galaxyIframe\")"
   ]
  },
  {
   "cell_type": "code",
   "execution_count": 71,
   "metadata": {},
   "outputs": [],
   "source": [
    "# switch to iframe in order to access web elements\n",
    "\n",
    "driver.switch_to.frame(iframe)"
   ]
  },
  {
   "cell_type": "code",
   "execution_count": 72,
   "metadata": {},
   "outputs": [
    {
     "data": {
      "text/plain": [
       "<selenium.webdriver.remote.webelement.WebElement (session=\"cd1a933dce289500f5e5a70f5ee8ee8e\", element=\"109cfe12-f2ee-4a0e-8df5-242554222fc4\")>"
      ]
     },
     "execution_count": 72,
     "metadata": {},
     "output_type": "execute_result"
    }
   ],
   "source": [
    "# locate the main toolbar\n",
    "\n",
    "driver.find_element_by_id(\"ID-reportHeader-reportToolbar\")"
   ]
  },
  {
   "cell_type": "code",
   "execution_count": 73,
   "metadata": {},
   "outputs": [],
   "source": [
    "time.sleep(2)"
   ]
  },
  {
   "cell_type": "code",
   "execution_count": 74,
   "metadata": {},
   "outputs": [],
   "source": [
    "# click on the \"export\" button\n",
    "\n",
    "driver.find_element_by_xpath(\"//*[@id='ID-reportHeader-reportToolbar']/div[1]/div[2]/span[2]\").click()"
   ]
  },
  {
   "cell_type": "code",
   "execution_count": 75,
   "metadata": {},
   "outputs": [],
   "source": [
    "time.sleep(2)"
   ]
  },
  {
   "cell_type": "code",
   "execution_count": 76,
   "metadata": {},
   "outputs": [],
   "source": [
    "# select type of export file - options are PDF (li.ACTION-export.TARGET-PDF), Google Sheets (li.ACTION-export.TARGET-FOR_TRIX), Excel (li.ACTION-export.TARGET-XLSX), & CSV (li.ACTION-export.TARGET-CSV)\n",
    "\n",
    "driver.find_element_by_css_selector(\"li.ACTION-export.TARGET-XLSX\").click()"
   ]
  },
  {
   "cell_type": "code",
   "execution_count": 77,
   "metadata": {},
   "outputs": [],
   "source": [
    "time.sleep(5)"
   ]
  },
  {
   "cell_type": "markdown",
   "metadata": {},
   "source": [
    "## Benchmarking"
   ]
  },
  {
   "cell_type": "code",
   "execution_count": 78,
   "metadata": {},
   "outputs": [],
   "source": [
    "# insert URL for report page want to download - need to have time rage selected for it to grab the specific dates\n",
    "\n",
    "driver.get(\"https://analytics.google.com/analytics/web/#/report/visitors-benchmarking-geo/\" + config.code + \"/_u.dateOption=last30days&explorer-graphMode.mode=lineChart&explorer-graphOptions.compareConcept=analytics.benchmarkVisits/\")"
   ]
  },
  {
   "cell_type": "code",
   "execution_count": 79,
   "metadata": {},
   "outputs": [],
   "source": [
    "time.sleep(2)"
   ]
  },
  {
   "cell_type": "code",
   "execution_count": 80,
   "metadata": {},
   "outputs": [],
   "source": [
    "# define iframe\n",
    "\n",
    "iframe = driver.find_element_by_id(\"galaxyIframe\")"
   ]
  },
  {
   "cell_type": "code",
   "execution_count": 81,
   "metadata": {},
   "outputs": [],
   "source": [
    "# switch to iframe in order to access web elements\n",
    "\n",
    "driver.switch_to.frame(iframe)"
   ]
  },
  {
   "cell_type": "code",
   "execution_count": 82,
   "metadata": {},
   "outputs": [
    {
     "data": {
      "text/plain": [
       "<selenium.webdriver.remote.webelement.WebElement (session=\"cd1a933dce289500f5e5a70f5ee8ee8e\", element=\"24dddc47-ba9b-4a44-9d39-1d6d0987baf8\")>"
      ]
     },
     "execution_count": 82,
     "metadata": {},
     "output_type": "execute_result"
    }
   ],
   "source": [
    "# locate the main toolbar\n",
    "\n",
    "driver.find_element_by_id(\"ID-reportHeader-reportToolbar\")"
   ]
  },
  {
   "cell_type": "code",
   "execution_count": 83,
   "metadata": {},
   "outputs": [],
   "source": [
    "time.sleep(5)"
   ]
  },
  {
   "cell_type": "code",
   "execution_count": 84,
   "metadata": {},
   "outputs": [],
   "source": [
    "# click on the \"export\" button\n",
    "\n",
    "driver.find_element_by_xpath(\"//*[@id='ID-reportHeader-reportToolbar']/div[1]/div[2]/span[2]\").click()"
   ]
  },
  {
   "cell_type": "code",
   "execution_count": 85,
   "metadata": {},
   "outputs": [],
   "source": [
    "time.sleep(5)"
   ]
  },
  {
   "cell_type": "code",
   "execution_count": 86,
   "metadata": {},
   "outputs": [],
   "source": [
    "# select type of export file - options are PDF (li.ACTION-export.TARGET-PDF), Google Sheets (li.ACTION-export.TARGET-FOR_TRIX), Excel (li.ACTION-export.TARGET-XLSX), & CSV (li.ACTION-export.TARGET-CSV)\n",
    "\n",
    "driver.find_element_by_css_selector(\"li.ACTION-export.TARGET-XLSX\").click()"
   ]
  },
  {
   "cell_type": "code",
   "execution_count": 87,
   "metadata": {},
   "outputs": [],
   "source": [
    "time.sleep(5)"
   ]
  },
  {
   "cell_type": "markdown",
   "metadata": {},
   "source": [
    "## Traffic Source"
   ]
  },
  {
   "cell_type": "code",
   "execution_count": 88,
   "metadata": {},
   "outputs": [],
   "source": [
    "# insert URL for report page want to download - need to have time rage selected for it to grab the specific dates\n",
    "\n",
    "driver.get(\"https://analytics.google.com/analytics/web/#/report/acquisition-channels/\" + config.code + \"/_u.dateOption=last30days&explorer-segmentExplorer.segmentId=analytics.trafficChannel&explorer-table.plotKeys=%5B%5\")"
   ]
  },
  {
   "cell_type": "code",
   "execution_count": 89,
   "metadata": {},
   "outputs": [],
   "source": [
    "time.sleep(2)"
   ]
  },
  {
   "cell_type": "code",
   "execution_count": 90,
   "metadata": {},
   "outputs": [],
   "source": [
    "# define iframe\n",
    "\n",
    "iframe = driver.find_element_by_id(\"galaxyIframe\")"
   ]
  },
  {
   "cell_type": "code",
   "execution_count": 91,
   "metadata": {},
   "outputs": [],
   "source": [
    "# switch to iframe in order to access web elements\n",
    "\n",
    "driver.switch_to.frame(iframe)"
   ]
  },
  {
   "cell_type": "code",
   "execution_count": 92,
   "metadata": {},
   "outputs": [
    {
     "data": {
      "text/plain": [
       "<selenium.webdriver.remote.webelement.WebElement (session=\"cd1a933dce289500f5e5a70f5ee8ee8e\", element=\"24dddc47-ba9b-4a44-9d39-1d6d0987baf8\")>"
      ]
     },
     "execution_count": 92,
     "metadata": {},
     "output_type": "execute_result"
    }
   ],
   "source": [
    "# locate the main toolbar\n",
    "\n",
    "driver.find_element_by_id(\"ID-reportHeader-reportToolbar\")"
   ]
  },
  {
   "cell_type": "code",
   "execution_count": 93,
   "metadata": {},
   "outputs": [],
   "source": [
    "time.sleep(2)"
   ]
  },
  {
   "cell_type": "code",
   "execution_count": 94,
   "metadata": {},
   "outputs": [],
   "source": [
    "# click on the \"export\" button\n",
    "\n",
    "driver.find_element_by_xpath(\"//*[@id='ID-reportHeader-reportToolbar']/div[1]/div[2]/span[2]\").click()"
   ]
  },
  {
   "cell_type": "code",
   "execution_count": 95,
   "metadata": {},
   "outputs": [],
   "source": [
    "time.sleep(2)"
   ]
  },
  {
   "cell_type": "code",
   "execution_count": 96,
   "metadata": {},
   "outputs": [],
   "source": [
    "# select type of export file - options are PDF (li.ACTION-export.TARGET-PDF), Google Sheets (li.ACTION-export.TARGET-FOR_TRIX), Excel (li.ACTION-export.TARGET-XLSX), & CSV (li.ACTION-export.TARGET-CSV)\n",
    "\n",
    "driver.find_element_by_css_selector(\"li.ACTION-export.TARGET-XLSX\").click()"
   ]
  },
  {
   "cell_type": "code",
   "execution_count": 97,
   "metadata": {},
   "outputs": [],
   "source": [
    "time.sleep(10)"
   ]
  },
  {
   "cell_type": "code",
   "execution_count": 98,
   "metadata": {},
   "outputs": [],
   "source": [
    "# exit out of browser\n",
    "\n",
    "driver.quit()"
   ]
  }
 ],
 "metadata": {
  "kernelspec": {
   "display_name": "Python 3",
   "language": "python",
   "name": "python3"
  },
  "language_info": {
   "codemirror_mode": {
    "name": "ipython",
    "version": 3
   },
   "file_extension": ".py",
   "mimetype": "text/x-python",
   "name": "python",
   "nbconvert_exporter": "python",
   "pygments_lexer": "ipython3",
   "version": "3.7.4"
  }
 },
 "nbformat": 4,
 "nbformat_minor": 2
}
