{
 "cells": [
  {
   "cell_type": "code",
   "execution_count": null,
   "metadata": {},
   "outputs": [],
   "source": [
    "# import dependencies\n",
    "\n",
    "import pandas as pd\n",
    "import requests\n",
    "from selenium import webdriver\n",
    "from webdriver_manager.chrome import ChromeDriverManager\n",
    "import config\n",
    "\n",
    "from bs4 import BeautifulSoup\n",
    "from splinter import Browser\n",
    "import time\n",
    "from selenium.webdriver.common.keys import Keys\n",
    "from selenium.webdriver.common.by import By"
   ]
  },
  {
   "cell_type": "code",
   "execution_count": null,
   "metadata": {
    "scrolled": false
   },
   "outputs": [],
   "source": [
    "# update Chromedriver tolatest version\n",
    "\n",
    "driver = webdriver.Chrome(ChromeDriverManager().install())"
   ]
  },
  {
   "cell_type": "code",
   "execution_count": null,
   "metadata": {},
   "outputs": [],
   "source": [
    "# load analytics log in page\n",
    "\n",
    "driver.get(config.URL2)"
   ]
  },
  {
   "cell_type": "code",
   "execution_count": null,
   "metadata": {},
   "outputs": [],
   "source": [
    "# UN input\n",
    "\n",
    "username = driver.find_element_by_id(\"identifierId\")\n",
    "username.clear()\n",
    "username.send_keys(config.username2)"
   ]
  },
  {
   "cell_type": "code",
   "execution_count": null,
   "metadata": {},
   "outputs": [],
   "source": [
    "username.send_keys(Keys.RETURN)"
   ]
  },
  {
   "cell_type": "code",
   "execution_count": null,
   "metadata": {},
   "outputs": [],
   "source": [
    "time.sleep(5)"
   ]
  },
  {
   "cell_type": "code",
   "execution_count": null,
   "metadata": {},
   "outputs": [],
   "source": [
    "# PW input\n",
    "\n",
    "password = driver.find_element_by_xpath(\"//*[@id='password']/div[1]/div/div[1]/input\")\n",
    "password.send_keys(config.password2)"
   ]
  },
  {
   "cell_type": "code",
   "execution_count": null,
   "metadata": {},
   "outputs": [],
   "source": [
    "# Pressing enter to log in\n",
    "\n",
    "password.send_keys(Keys.RETURN)"
   ]
  },
  {
   "cell_type": "code",
   "execution_count": null,
   "metadata": {},
   "outputs": [],
   "source": [
    "time.sleep(5)"
   ]
  },
  {
   "cell_type": "code",
   "execution_count": null,
   "metadata": {},
   "outputs": [],
   "source": [
    "# Load Google Analytics\n",
    "\n",
    "driver.get(config.URL2)"
   ]
  },
  {
   "cell_type": "code",
   "execution_count": null,
   "metadata": {},
   "outputs": [],
   "source": [
    "time.sleep(5)"
   ]
  },
  {
   "cell_type": "markdown",
   "metadata": {},
   "source": [
    "## New vs. Returning"
   ]
  },
  {
   "cell_type": "code",
   "execution_count": null,
   "metadata": {},
   "outputs": [],
   "source": [
    "# insert URL for report page want to download - need to have time rage selected for it to grab the specific dates\n",
    "\n",
    "driver.get(\"https://analytics.google.com/analytics/web/#/report/visitors-type/\" + config.code + \"/_u.dateOption=last30days&explorer-graphOptions.selected=analytics.nthDay\")"
   ]
  },
  {
   "cell_type": "code",
   "execution_count": null,
   "metadata": {},
   "outputs": [],
   "source": [
    "time.sleep(5)"
   ]
  },
  {
   "cell_type": "code",
   "execution_count": null,
   "metadata": {},
   "outputs": [],
   "source": [
    "# define iframe\n",
    "\n",
    "iframe = driver.find_element_by_id(\"galaxyIframe\")"
   ]
  },
  {
   "cell_type": "code",
   "execution_count": null,
   "metadata": {},
   "outputs": [],
   "source": [
    "# switch to iframe in order to access web elements\n",
    "\n",
    "driver.switch_to.frame(iframe)"
   ]
  },
  {
   "cell_type": "code",
   "execution_count": null,
   "metadata": {},
   "outputs": [],
   "source": [
    "time.sleep(2)"
   ]
  },
  {
   "cell_type": "code",
   "execution_count": null,
   "metadata": {},
   "outputs": [],
   "source": [
    "# locate the main toolbar\n",
    "\n",
    "driver.find_element_by_id(\"ID-reportHeader-reportToolbar\")"
   ]
  },
  {
   "cell_type": "code",
   "execution_count": null,
   "metadata": {},
   "outputs": [],
   "source": [
    "# click on the \"export\" button\n",
    "\n",
    "driver.find_element_by_xpath(\"//*[@id='ID-reportHeader-reportToolbar']/div[1]/div[2]/span[2]\").click()"
   ]
  },
  {
   "cell_type": "code",
   "execution_count": null,
   "metadata": {},
   "outputs": [],
   "source": [
    "time.sleep(2)"
   ]
  },
  {
   "cell_type": "code",
   "execution_count": null,
   "metadata": {},
   "outputs": [],
   "source": [
    "# select type of export file - options are PDF (li.ACTION-export.TARGET-PDF), Google Sheets (li.ACTION-export.TARGET-FOR_TRIX), Excel (li.ACTION-export.TARGET-XLSX), & CSV (li.ACTION-export.TARGET-CSV)\n",
    "\n",
    "driver.find_element_by_css_selector(\"li.ACTION-export.TARGET-XLSX\").click()"
   ]
  },
  {
   "cell_type": "code",
   "execution_count": null,
   "metadata": {},
   "outputs": [],
   "source": [
    "time.sleep(5)"
   ]
  },
  {
   "cell_type": "markdown",
   "metadata": {},
   "source": [
    "## Location"
   ]
  },
  {
   "cell_type": "code",
   "execution_count": null,
   "metadata": {},
   "outputs": [],
   "source": [
    "# insert URL for report page want to download - need to have time rage selected for it to grab the specific dates\n",
    "\n",
    "driver.get(\"https://analytics.google.com/analytics/web/#/report/visitors-geo/\" + config.code + \"/_u.dateOption=last30days/\")"
   ]
  },
  {
   "cell_type": "code",
   "execution_count": null,
   "metadata": {},
   "outputs": [],
   "source": [
    "time.sleep(2)"
   ]
  },
  {
   "cell_type": "code",
   "execution_count": null,
   "metadata": {},
   "outputs": [],
   "source": [
    "# define iframe\n",
    "\n",
    "iframe = driver.find_element_by_id(\"galaxyIframe\")"
   ]
  },
  {
   "cell_type": "code",
   "execution_count": null,
   "metadata": {},
   "outputs": [],
   "source": [
    "# switch to iframe to access web elements\n",
    "\n",
    "driver.switch_to.frame(iframe)"
   ]
  },
  {
   "cell_type": "code",
   "execution_count": null,
   "metadata": {},
   "outputs": [],
   "source": [
    "# locate the main toolbar\n",
    "\n",
    "driver.find_element_by_id(\"ID-reportHeader-reportToolbar\")"
   ]
  },
  {
   "cell_type": "code",
   "execution_count": null,
   "metadata": {},
   "outputs": [],
   "source": [
    "time.sleep(2)"
   ]
  },
  {
   "cell_type": "code",
   "execution_count": null,
   "metadata": {},
   "outputs": [],
   "source": [
    "# click on the \"export\" button\n",
    "\n",
    "driver.find_element_by_xpath(\"//*[@id='ID-reportHeader-reportToolbar']/div[1]/div[2]/span[2]\").click()"
   ]
  },
  {
   "cell_type": "code",
   "execution_count": null,
   "metadata": {},
   "outputs": [],
   "source": [
    "time.sleep(2)"
   ]
  },
  {
   "cell_type": "code",
   "execution_count": null,
   "metadata": {},
   "outputs": [],
   "source": [
    "# select type of export file - options are PDF (li.ACTION-export.TARGET-PDF), Google Sheets (li.ACTION-export.TARGET-FOR_TRIX), Excel (li.ACTION-export.TARGET-XLSX), & CSV (li.ACTION-export.TARGET-CSV)\n",
    "\n",
    "driver.find_element_by_css_selector(\"li.ACTION-export.TARGET-XLSX\").click()"
   ]
  },
  {
   "cell_type": "code",
   "execution_count": null,
   "metadata": {},
   "outputs": [],
   "source": [
    "time.sleep(5)"
   ]
  },
  {
   "cell_type": "markdown",
   "metadata": {},
   "source": [
    "## Number of Users"
   ]
  },
  {
   "cell_type": "code",
   "execution_count": null,
   "metadata": {},
   "outputs": [],
   "source": [
    "# insert URL for report page want to download - need to have time rage selected for it to grab the specific dates\n",
    "\n",
    "driver.get(\"https://analytics.google.com/analytics/web/#/report/visitors-language/\" + config.code + \"/_u.dateOption=last30days&tabControl.tabId=explorer&explorer-segmentExplorer.segmentId=analytics.language\")"
   ]
  },
  {
   "cell_type": "code",
   "execution_count": null,
   "metadata": {},
   "outputs": [],
   "source": [
    "time.sleep(2)"
   ]
  },
  {
   "cell_type": "code",
   "execution_count": null,
   "metadata": {},
   "outputs": [],
   "source": [
    "# define iframe\n",
    "\n",
    "iframe = driver.find_element_by_id(\"galaxyIframe\")"
   ]
  },
  {
   "cell_type": "code",
   "execution_count": null,
   "metadata": {},
   "outputs": [],
   "source": [
    "# switch to iframe in order to access web elements\n",
    "\n",
    "driver.switch_to.frame(iframe)"
   ]
  },
  {
   "cell_type": "code",
   "execution_count": null,
   "metadata": {},
   "outputs": [],
   "source": [
    "# locate the main toolbar\n",
    "\n",
    "driver.find_element_by_id(\"ID-reportHeader-reportToolbar\")"
   ]
  },
  {
   "cell_type": "code",
   "execution_count": null,
   "metadata": {},
   "outputs": [],
   "source": [
    "time.sleep(2)"
   ]
  },
  {
   "cell_type": "code",
   "execution_count": null,
   "metadata": {},
   "outputs": [],
   "source": [
    "# click on the \"export\" button\n",
    "\n",
    "driver.find_element_by_xpath(\"//*[@id='ID-reportHeader-reportToolbar']/div[1]/div[2]/span[2]\").click()"
   ]
  },
  {
   "cell_type": "code",
   "execution_count": null,
   "metadata": {},
   "outputs": [],
   "source": [
    "time.sleep(2)"
   ]
  },
  {
   "cell_type": "code",
   "execution_count": null,
   "metadata": {},
   "outputs": [],
   "source": [
    "# select type of export file - options are PDF (li.ACTION-export.TARGET-PDF), Google Sheets (li.ACTION-export.TARGET-FOR_TRIX), Excel (li.ACTION-export.TARGET-XLSX), & CSV (li.ACTION-export.TARGET-CSV)\n",
    "\n",
    "driver.find_element_by_css_selector(\"li.ACTION-export.TARGET-XLSX\").click()"
   ]
  },
  {
   "cell_type": "code",
   "execution_count": null,
   "metadata": {},
   "outputs": [],
   "source": [
    "time.sleep(5)"
   ]
  },
  {
   "cell_type": "markdown",
   "metadata": {},
   "source": [
    "## Benchmarking"
   ]
  },
  {
   "cell_type": "code",
   "execution_count": null,
   "metadata": {},
   "outputs": [],
   "source": [
    "# insert URL for report page want to download - need to have time rage selected for it to grab the specific dates\n",
    "\n",
    "driver.get(\"https://analytics.google.com/analytics/web/#/report/visitors-benchmarking-geo/\" + config.code + \"/_u.dateOption=last30days&explorer-graphMode.mode=lineChart&explorer-graphOptions.compareConcept=analytics.benchmarkVisits/\")"
   ]
  },
  {
   "cell_type": "code",
   "execution_count": null,
   "metadata": {},
   "outputs": [],
   "source": [
    "time.sleep(2)"
   ]
  },
  {
   "cell_type": "code",
   "execution_count": null,
   "metadata": {},
   "outputs": [],
   "source": [
    "# define iframe\n",
    "\n",
    "iframe = driver.find_element_by_id(\"galaxyIframe\")"
   ]
  },
  {
   "cell_type": "code",
   "execution_count": null,
   "metadata": {},
   "outputs": [],
   "source": [
    "# switch to iframe in order to access web elements\n",
    "\n",
    "driver.switch_to.frame(iframe)"
   ]
  },
  {
   "cell_type": "code",
   "execution_count": null,
   "metadata": {},
   "outputs": [],
   "source": [
    "# locate the main toolbar\n",
    "\n",
    "driver.find_element_by_id(\"ID-reportHeader-reportToolbar\")"
   ]
  },
  {
   "cell_type": "code",
   "execution_count": null,
   "metadata": {},
   "outputs": [],
   "source": [
    "time.sleep(5)"
   ]
  },
  {
   "cell_type": "code",
   "execution_count": null,
   "metadata": {},
   "outputs": [],
   "source": [
    "# click on the \"export\" button\n",
    "\n",
    "driver.find_element_by_xpath(\"//*[@id='ID-reportHeader-reportToolbar']/div[1]/div[2]/span[2]\").click()"
   ]
  },
  {
   "cell_type": "code",
   "execution_count": null,
   "metadata": {},
   "outputs": [],
   "source": [
    "time.sleep(5)"
   ]
  },
  {
   "cell_type": "code",
   "execution_count": null,
   "metadata": {},
   "outputs": [],
   "source": [
    "# select type of export file - options are PDF (li.ACTION-export.TARGET-PDF), Google Sheets (li.ACTION-export.TARGET-FOR_TRIX), Excel (li.ACTION-export.TARGET-XLSX), & CSV (li.ACTION-export.TARGET-CSV)\n",
    "\n",
    "driver.find_element_by_css_selector(\"li.ACTION-export.TARGET-XLSX\").click()"
   ]
  },
  {
   "cell_type": "code",
   "execution_count": null,
   "metadata": {},
   "outputs": [],
   "source": [
    "time.sleep(5)"
   ]
  },
  {
   "cell_type": "markdown",
   "metadata": {},
   "source": [
    "## Traffic Source"
   ]
  },
  {
   "cell_type": "code",
   "execution_count": null,
   "metadata": {},
   "outputs": [],
   "source": [
    "# insert URL for report page want to download - need to have time rage selected for it to grab the specific dates\n",
    "\n",
    "driver.get(\"https://analytics.google.com/analytics/web/#/report/acquisition-channels/\" + config.code + \"/_u.dateOption=last30days&explorer-segmentExplorer.segmentId=analytics.trafficChannel&explorer-table.plotKeys=%5B%5\")"
   ]
  },
  {
   "cell_type": "code",
   "execution_count": null,
   "metadata": {},
   "outputs": [],
   "source": [
    "time.sleep(2)"
   ]
  },
  {
   "cell_type": "code",
   "execution_count": null,
   "metadata": {},
   "outputs": [],
   "source": [
    "# define iframe\n",
    "\n",
    "iframe = driver.find_element_by_id(\"galaxyIframe\")"
   ]
  },
  {
   "cell_type": "code",
   "execution_count": null,
   "metadata": {},
   "outputs": [],
   "source": [
    "# switch to iframe in order to access web elements\n",
    "\n",
    "driver.switch_to.frame(iframe)"
   ]
  },
  {
   "cell_type": "code",
   "execution_count": null,
   "metadata": {},
   "outputs": [],
   "source": [
    "# locate the main toolbar\n",
    "\n",
    "driver.find_element_by_id(\"ID-reportHeader-reportToolbar\")"
   ]
  },
  {
   "cell_type": "code",
   "execution_count": null,
   "metadata": {},
   "outputs": [],
   "source": [
    "time.sleep(2)"
   ]
  },
  {
   "cell_type": "code",
   "execution_count": null,
   "metadata": {},
   "outputs": [],
   "source": [
    "# click on the \"export\" button\n",
    "\n",
    "driver.find_element_by_xpath(\"//*[@id='ID-reportHeader-reportToolbar']/div[1]/div[2]/span[2]\").click()"
   ]
  },
  {
   "cell_type": "code",
   "execution_count": null,
   "metadata": {},
   "outputs": [],
   "source": [
    "time.sleep(2)"
   ]
  },
  {
   "cell_type": "code",
   "execution_count": null,
   "metadata": {},
   "outputs": [],
   "source": [
    "# select type of export file - options are PDF (li.ACTION-export.TARGET-PDF), Google Sheets (li.ACTION-export.TARGET-FOR_TRIX), Excel (li.ACTION-export.TARGET-XLSX), & CSV (li.ACTION-export.TARGET-CSV)\n",
    "\n",
    "driver.find_element_by_css_selector(\"li.ACTION-export.TARGET-XLSX\").click()"
   ]
  },
  {
   "cell_type": "code",
   "execution_count": null,
   "metadata": {},
   "outputs": [],
   "source": [
    "time.sleep(10)"
   ]
  },
  {
   "cell_type": "code",
   "execution_count": null,
   "metadata": {},
   "outputs": [],
   "source": [
    "# exit out of browser\n",
    "\n",
    "driver.quit()"
   ]
  }
 ],
 "metadata": {
  "kernelspec": {
   "display_name": "Python 3",
   "language": "python",
   "name": "python3"
  },
  "language_info": {
   "codemirror_mode": {
    "name": "ipython",
    "version": 3
   },
   "file_extension": ".py",
   "mimetype": "text/x-python",
   "name": "python",
   "nbconvert_exporter": "python",
   "pygments_lexer": "ipython3",
   "version": "3.7.4"
  }
 },
 "nbformat": 4,
 "nbformat_minor": 2
}
