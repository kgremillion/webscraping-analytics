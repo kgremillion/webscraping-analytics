{
 "cells": [
  {
   "cell_type": "code",
   "execution_count": null,
   "metadata": {},
   "outputs": [],
   "source": [
    "# import dependencies\n",
    "\n",
    "import pandas as pd\n",
    "import requests\n",
    "from selenium import webdriver\n",
    "from webdriver_manager.chrome import ChromeDriverManager\n",
    "\n",
    "from bs4 import BeautifulSoup\n",
    "from splinter import Browser\n",
    "import time\n",
    "from selenium.webdriver.common.keys import Keys\n",
    "from selenium.webdriver.common.by import By\n",
    "from selenium.webdriver.support.ui import Select"
   ]
  },
  {
   "cell_type": "code",
   "execution_count": null,
   "metadata": {},
   "outputs": [],
   "source": [
    "# update Chromedriver to latest version\n",
    "\n",
    "driver = webdriver.Chrome(ChromeDriverManager().install())"
   ]
  },
  {
   "cell_type": "code",
   "execution_count": null,
   "metadata": {},
   "outputs": [],
   "source": [
    "# load LinkedIn sign in page\n",
    "\n",
    "driver.get('https://www.linkedin.com/login?fromSignIn=true&trk=guest_homepage-basic_nav-header-signin')"
   ]
  },
  {
   "cell_type": "code",
   "execution_count": null,
   "metadata": {},
   "outputs": [],
   "source": [
    "# UN input\n",
    "\n",
    "username = driver.find_element_by_id(\"username\")\n",
    "username.clear()\n",
    "username.send_keys(config.username1)"
   ]
  },
  {
   "cell_type": "code",
   "execution_count": null,
   "metadata": {},
   "outputs": [],
   "source": [
    "# PW input\n",
    "\n",
    "password = driver.find_element_by_id(\"password\")\n",
    "password.clear()\n",
    "password.send_keys(config.password1)"
   ]
  },
  {
   "cell_type": "code",
   "execution_count": null,
   "metadata": {},
   "outputs": [],
   "source": [
    "# Pressing enter to log in\n",
    "\n",
    "password.send_keys(Keys.RETURN)"
   ]
  },
  {
   "cell_type": "code",
   "execution_count": null,
   "metadata": {},
   "outputs": [],
   "source": [
    "time.sleep(2)"
   ]
  },
  {
   "cell_type": "markdown",
   "metadata": {},
   "source": [
    "### LinkedIn Visitor Analytics"
   ]
  },
  {
   "cell_type": "code",
   "execution_count": null,
   "metadata": {},
   "outputs": [],
   "source": [
    "mini = driver.find_element_by_class_name(\"msg-overlay-bubble-header__button.truncate.ml2\").click()"
   ]
  },
  {
   "cell_type": "code",
   "execution_count": null,
   "metadata": {},
   "outputs": [],
   "source": [
    "# Load visitor analytics page\n",
    "\n",
    "driver.get(config.URL1 + \"/analytics/visitors/\")"
   ]
  },
  {
   "cell_type": "code",
   "execution_count": null,
   "metadata": {},
   "outputs": [],
   "source": [
    "time.sleep(2)"
   ]
  },
  {
   "cell_type": "code",
   "execution_count": null,
   "metadata": {},
   "outputs": [],
   "source": [
    "# Select \"Time range\" dropdown\n",
    "\n",
    "visdatelist = driver.find_element_by_class_name('org-analytics__dropdown-trigger.artdeco-dropdown__trigger.artdeco-dropdown__trigger--placement-bottom.ember-view')\n",
    "visdatelist.click()"
   ]
  },
  {
   "cell_type": "code",
   "execution_count": null,
   "metadata": {},
   "outputs": [],
   "source": [
    "time.sleep(2)"
   ]
  },
  {
   "cell_type": "code",
   "execution_count": null,
   "metadata": {},
   "outputs": [],
   "source": [
    "# Click on desired time range - only neeed to edit - (\"//*[text()='Desired range text']\")\n",
    "\n",
    "vistimerange = driver.find_element_by_xpath(\"//*[text()='Last 12 weeks']\")\n",
    "vistimerange.click()"
   ]
  },
  {
   "cell_type": "code",
   "execution_count": null,
   "metadata": {},
   "outputs": [],
   "source": [
    "time.sleep(5)"
   ]
  },
  {
   "cell_type": "code",
   "execution_count": null,
   "metadata": {},
   "outputs": [],
   "source": [
    "# Click on the \"Export\" button to prompt download box\n",
    "\n",
    "visreport = driver.find_element_by_css_selector('button.fr.mlA.mt3.artdeco-button.artdeco-button--primary')\n",
    "visreport.send_keys(Keys.RETURN)"
   ]
  },
  {
   "cell_type": "code",
   "execution_count": null,
   "metadata": {},
   "outputs": [],
   "source": [
    "time.sleep(2)"
   ]
  },
  {
   "cell_type": "code",
   "execution_count": null,
   "metadata": {},
   "outputs": [],
   "source": [
    "visdl = driver.find_element_by_css_selector('button.fr.ml2.artdeco-button.artdeco-button--2.artdeco-button--primary')\n",
    "visdl.click()"
   ]
  },
  {
   "cell_type": "markdown",
   "metadata": {},
   "source": [
    "### LinkedIn Update Analytics"
   ]
  },
  {
   "cell_type": "code",
   "execution_count": null,
   "metadata": {},
   "outputs": [],
   "source": [
    "# Load update analytics page\n",
    "\n",
    "driver.get(config.URL1 + \"/analytics/updates/\")"
   ]
  },
  {
   "cell_type": "code",
   "execution_count": null,
   "metadata": {},
   "outputs": [],
   "source": [
    "time.sleep(2)"
   ]
  },
  {
   "cell_type": "code",
   "execution_count": null,
   "metadata": {},
   "outputs": [],
   "source": [
    "# Select \"Time range\" dropdown\n",
    "\n",
    "updatelist = driver.find_element_by_class_name('org-analytics__dropdown-trigger.artdeco-dropdown__trigger.artdeco-dropdown__trigger--placement-bottom.ember-view')\n",
    "updatelist.click()"
   ]
  },
  {
   "cell_type": "code",
   "execution_count": null,
   "metadata": {},
   "outputs": [],
   "source": [
    "time.sleep(2)"
   ]
  },
  {
   "cell_type": "code",
   "execution_count": null,
   "metadata": {},
   "outputs": [],
   "source": [
    "# Click on desired time range - only neeed to edit - (\"//*[text()='Desired range text']\")\n",
    "\n",
    "uptimerange = driver.find_element_by_xpath(\"//*[text()='Last 12 weeks']\")\n",
    "uptimerange.click()"
   ]
  },
  {
   "cell_type": "code",
   "execution_count": null,
   "metadata": {},
   "outputs": [],
   "source": [
    "time.sleep(5)"
   ]
  },
  {
   "cell_type": "code",
   "execution_count": null,
   "metadata": {},
   "outputs": [],
   "source": [
    "# Click on the \"Export\" button to prompt download box\n",
    "\n",
    "upreport = driver.find_element_by_css_selector('button.fr.mlA.mt3.artdeco-button.artdeco-button--primary')\n",
    "time.sleep(1)\n",
    "upreport.click()"
   ]
  },
  {
   "cell_type": "code",
   "execution_count": null,
   "metadata": {},
   "outputs": [],
   "source": [
    "# Click the \"Export\" button in prompt box\n",
    "\n",
    "upexport = driver.find_element_by_css_selector('button.fr.ml2.artdeco-button.artdeco-button--2.artdeco-button--primary.ember-view')\n",
    "time.sleep(1)\n",
    "upexport.click()"
   ]
  },
  {
   "cell_type": "code",
   "execution_count": null,
   "metadata": {},
   "outputs": [],
   "source": [
    "time.sleep(2)"
   ]
  },
  {
   "cell_type": "markdown",
   "metadata": {},
   "source": [
    "### LinkedIn Follower Analytics"
   ]
  },
  {
   "cell_type": "code",
   "execution_count": null,
   "metadata": {},
   "outputs": [],
   "source": [
    "# Load update analytics page\n",
    "\n",
    "driver.get(config.URL1 + \"/analytics/followers/\")"
   ]
  },
  {
   "cell_type": "code",
   "execution_count": null,
   "metadata": {},
   "outputs": [],
   "source": [
    "time.sleep(2)"
   ]
  },
  {
   "cell_type": "code",
   "execution_count": null,
   "metadata": {},
   "outputs": [],
   "source": [
    "# Select \"Time range\" dropdown\n",
    "\n",
    "follist = driver.find_element_by_class_name('org-analytics__dropdown-trigger.artdeco-dropdown__trigger.artdeco-dropdown__trigger--placement-bottom.ember-view')\n",
    "follist.click()"
   ]
  },
  {
   "cell_type": "code",
   "execution_count": null,
   "metadata": {},
   "outputs": [],
   "source": [
    "time.sleep(2)"
   ]
  },
  {
   "cell_type": "code",
   "execution_count": null,
   "metadata": {},
   "outputs": [],
   "source": [
    "# Click on desired time range - only neeed to edit - (\"//*[text()='Desired range text']\")\n",
    "\n",
    "foltimerange = driver.find_element_by_xpath(\"//*[text()='Last 12 weeks']\")\n",
    "foltimerange.click()"
   ]
  },
  {
   "cell_type": "code",
   "execution_count": null,
   "metadata": {},
   "outputs": [],
   "source": [
    "time.sleep(5)"
   ]
  },
  {
   "cell_type": "code",
   "execution_count": null,
   "metadata": {},
   "outputs": [],
   "source": [
    "# Click on the \"Export\" button to prompt download box\n",
    "\n",
    "folreport = driver.find_element_by_css_selector('button.fr.mlA.mt3.artdeco-button.artdeco-button--primary')\n",
    "time.sleep(1)\n",
    "folreport.send_keys(Keys.RETURN)"
   ]
  },
  {
   "cell_type": "code",
   "execution_count": null,
   "metadata": {},
   "outputs": [],
   "source": [
    "time.sleep(2)"
   ]
  },
  {
   "cell_type": "code",
   "execution_count": null,
   "metadata": {},
   "outputs": [],
   "source": [
    "# Click on the \"Export\" button in download box\n",
    "\n",
    "dlfol = driver.find_element_by_css_selector('button.fr.ml2.artdeco-button.artdeco-button--2.artdeco-button--primary')\n",
    "time.sleep(1)\n",
    "dlfol.click()"
   ]
  },
  {
   "cell_type": "code",
   "execution_count": null,
   "metadata": {},
   "outputs": [],
   "source": [
    "driver.quit()"
   ]
  }
 ],
 "metadata": {
  "kernelspec": {
   "display_name": "Python 3",
   "language": "python",
   "name": "python3"
  },
  "language_info": {
   "codemirror_mode": {
    "name": "ipython",
    "version": 3
   },
   "file_extension": ".py",
   "mimetype": "text/x-python",
   "name": "python",
   "nbconvert_exporter": "python",
   "pygments_lexer": "ipython3",
   "version": "3.7.4"
  }
 },
 "nbformat": 4,
 "nbformat_minor": 2
}
